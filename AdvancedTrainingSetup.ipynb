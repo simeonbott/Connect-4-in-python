{
 "cells": [
  {
   "cell_type": "code",
   "execution_count": null,
   "id": "4378c7f6-9f20-4410-ab9f-d392fe76747f",
   "metadata": {},
   "outputs": [],
   "source": [
    "columntypegames = [[\"2\" for i in range(16)],['2' for i in range(16)],['2' for i in range(16)],['2' for i in range(16)]]\n",
    "rowtypegames = [[\"2\" for i in range(289)],['2' for i in range(289)],['2' for i in range(289)],['2' for i in range(289)],['2' for i in range(289)],['2' for i in range(289)]]\n",
    "diagonaltypegames = [[\"2\" for i in range(17)],['2' for i in range(17)],[\"2\" for i in range(65)],['2' for i in range(65)],[\"2\" for i in range(177)],['2' for i in range(177)]]\n",
    "columntypescore = [[\"1\" for i in range(16)],['1' for i in range(16)],['1' for i in range(16)],['1' for i in range(16)]]\n",
    "rowtypescore = [[\"1\" for i in range(289)],['1' for i in range(289)],['1' for i in range(289)],['1' for i in range(289)],['1' for i in range(289)],['1' for i in range(289)]]\n",
    "diagonaltypescore = [[\"1\" for i in range(17)],['1' for i in range(17)],[\"1\" for i in range(65)],[\"1\" for i in range(65)],[\"1\" for i in range(177)],[\"1\" for i in range(177)]]\n",
    "for i in range(4):\n",
    "    for j in range(16):\n",
    "        if j in [4,9,14]:\n",
    "            columntypescore[i][j] = '2'\n",
    "        if j in [15]:\n",
    "            columntypescore[i][j] = '0'\n",
    "for i in range(6):\n",
    "    for j in range(289):\n",
    "        if j in [15, 30, 31, 47, 61, 62, 63, 79, 94, 95, 111, 127, 143, 158, 159, 175, 188, 189, 190, 191, 207, 223, 239, 254, 255, 271, 287]:\n",
    "            rowtypescore[i][j] = '2'\n",
    "        if j in [288]:\n",
    "            rowtypescore[i][j] = '0'\n",
    "for i in range(2):\n",
    "    for j in range(17):\n",
    "        if j in [15]:\n",
    "            diagonaltypescore[i][j] = '2'\n",
    "        if j in [16]:\n",
    "            diagonaltypescore[i][j] = '0'\n",
    "for i in range(2,4):\n",
    "    for j in range(65):\n",
    "        if j in [15, 30, 31, 47, 63]:\n",
    "            diagonaltypescore[i][j] = '2'\n",
    "        if j in [64]:\n",
    "            diagonaltypescore[i][j] = '0'\n",
    "for i in range(4,6):\n",
    "    for j in range(177):\n",
    "        if j in [15, 30, 31, 47, 60, 61, 62, 63, 79, 94, 95, 111, 126, 127, 143, 159, 175]:\n",
    "            diagonaltypescore[i][j] = '2'\n",
    "        if j in [176]:\n",
    "            diagonaltypescore[i][j] = '0'\n",
    "with open('connecttrainingvalues','w') as f:\n",
    "    f.write(\"_\".join([\"-\".join(i) for i in columntypegames]) + \"¬\" + \"_\".join([\"-\".join(i) for i in rowtypegames]) + \"¬\" + \"_\".join([\"-\".join(i) for i in diagonaltypegames])\n",
    "            + \"¬\" + \"_\".join([\"-\".join(i) for i in columntypescore]) + \"¬\" + \"_\".join([\"-\".join(i) for i in rowtypescore]) + \"¬\" + \"_\".join([\"-\".join(i) for i in diagonaltypescore]))"
   ]
  }
 ],
 "metadata": {
  "kernelspec": {
   "display_name": "Python 3 (ipykernel)",
   "language": "python",
   "name": "python3"
  },
  "language_info": {
   "codemirror_mode": {
    "name": "ipython",
    "version": 3
   },
   "file_extension": ".py",
   "mimetype": "text/x-python",
   "name": "python",
   "nbconvert_exporter": "python",
   "pygments_lexer": "ipython3",
   "version": "3.10.9"
  }
 },
 "nbformat": 4,
 "nbformat_minor": 5
}
