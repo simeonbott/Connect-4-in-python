{
 "cells": [
  {
   "cell_type": "code",
   "execution_count": null,
   "id": "4378c7f6-9f20-4410-ab9f-d392fe76747f",
   "metadata": {},
   "outputs": [],
   "source": [
    "columntypegames = [[\"2\" for i in range(16)],['2' for i in range(16)],['2' for i in range(16)],['2' for i in range(16)]]\n",
    "rowtypegames = [[\"2\" for i in range(289)],['2' for i in range(289)],['2' for i in range(289)],['2' for i in range(289)],['2' for i in range(289)],['2' for i in range(289)]]\n",
    "diagonaltypegames = [[\"2\" for i in range(17)],['2' for i in range(17)],[\"2\" for i in range(65)],['2' for i in range(65)],[\"2\" for i in range(177)],['2' for i in range(177)]]\n",
    "columntypescore = [[\"1\" for i in range(16)],['1' for i in range(16)],['1' for i in range(16)],['1' for i in range(16)]]\n",
    "rowtypescore = [[\"1\" for i in range(289)],['1' for i in range(289)],['1' for i in range(289)],['1' for i in range(289)],['1' for i in range(289)],['1' for i in range(289)]]\n",
    "diagonaltypescore = [[\"1\" for i in range(17)],['1' for i in range(17)],[\"1\" for i in range(65)],[\"1\" for i in range(65)],[\"1\" for i in range(177)],[\"1\" for i in range(177)]]\n",
    "with open('connecttrainingvalues','w') as f:\n",
    "    f.write(\"_\".join([\"-\".join(i) for i in columntypegames]) + \"¬\" + \"_\".join([\"-\".join(i) for i in rowtypegames]) + \"¬\" + \"_\".join([\"-\".join(i) for i in diagonaltypegames])\n",
    "            + \"¬\" + \"_\".join([\"-\".join(i) for i in columntypescore]) + \"¬\" + \"_\".join([\"-\".join(i) for i in rowtypescore]) + \"¬\" + \"_\".join([\"-\".join(i) for i in diagonaltypescore]))"
   ]
  }
 ],
 "metadata": {
  "kernelspec": {
   "display_name": "Python 3 (ipykernel)",
   "language": "python",
   "name": "python3"
  },
  "language_info": {
   "codemirror_mode": {
    "name": "ipython",
    "version": 3
   },
   "file_extension": ".py",
   "mimetype": "text/x-python",
   "name": "python",
   "nbconvert_exporter": "python",
   "pygments_lexer": "ipython3",
   "version": "3.10.9"
  }
 },
 "nbformat": 4,
 "nbformat_minor": 5
}
